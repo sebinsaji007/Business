{
  "nbformat": 4,
  "nbformat_minor": 0,
  "metadata": {
    "colab": {
      "provenance": [],
      "mount_file_id": "1MFdx0OIOvatte4LM02uPOJ8Xv1swur2t",
      "authorship_tag": "ABX9TyPYMx1wl/dwVfWQ+vBJbkE5",
      "include_colab_link": true
    },
    "kernelspec": {
      "name": "python3",
      "display_name": "Python 3"
    },
    "language_info": {
      "name": "python"
    }
  },
  "cells": [
    {
      "cell_type": "markdown",
      "metadata": {
        "id": "view-in-github",
        "colab_type": "text"
      },
      "source": [
        "<a href=\"https://colab.research.google.com/github/sebinsaji007/Business/blob/master/data_augmentation.ipynb\" target=\"_parent\"><img src=\"https://colab.research.google.com/assets/colab-badge.svg\" alt=\"Open In Colab\"/></a>"
      ]
    },
    {
      "cell_type": "code",
      "execution_count": 1,
      "metadata": {
        "id": "qfsr1j34YMmM"
      },
      "outputs": [],
      "source": [
        "import tensorflow as tf\n",
        "import matplotlib.pyplot as plt\n",
        "import cv2\n",
        "import numpy as np\n",
        "import os\n",
        "import PIL\n",
        "from tensorflow import keras\n"
      ]
    },
    {
      "cell_type": "code",
      "source": [
        "cd /content/drive/MyDrive/python/deep learning/cnn"
      ],
      "metadata": {
        "colab": {
          "base_uri": "https://localhost:8080/"
        },
        "id": "pD-JfkKMawgh",
        "outputId": "01b26834-7216-4c1b-afae-ee94a2c568c2"
      },
      "execution_count": 2,
      "outputs": [
        {
          "output_type": "stream",
          "name": "stdout",
          "text": [
            "/content/drive/MyDrive/python/deep learning/cnn\n"
          ]
        }
      ]
    },
    {
      "cell_type": "code",
      "source": [
        "import pathlib\n",
        "dataset_url = \"https://storage.googleapis.com/download.tensorflow.org/example_images/flower_photos.tgz\"\n",
        "archive = tf.keras.utils.get_file('flower_photos',origin=dataset_url, cache_dir='.',untar=True)\n",
        "data_dir = pathlib.Path(data_dir)"
      ],
      "metadata": {
        "id": "Ox_gu8KPZHa5",
        "colab": {
          "base_uri": "https://localhost:8080/"
        },
        "outputId": "ec54f428-32f0-44fc-f699-352c65ad559b"
      },
      "execution_count": 11,
      "outputs": [
        {
          "output_type": "stream",
          "name": "stdout",
          "text": [
            "Downloading data from https://storage.googleapis.com/download.tensorflow.org/example_images/flower_photos.tgz\n",
            "228813984/228813984 [==============================] - 2s 0us/step\n"
          ]
        }
      ]
    },
    {
      "cell_type": "code",
      "source": [
        "roses = list(data_dir.glob('roses/*'))"
      ],
      "metadata": {
        "id": "abR7QrJiZ6gr"
      },
      "execution_count": 14,
      "outputs": []
    },
    {
      "cell_type": "code",
      "source": [
        "roses[:5]"
      ],
      "metadata": {
        "colab": {
          "base_uri": "https://localhost:8080/"
        },
        "id": "_whcsW4Ccao9",
        "outputId": "d2609ede-9444-45ea-a586-40086b17b974"
      },
      "execution_count": 15,
      "outputs": [
        {
          "output_type": "execute_result",
          "data": {
            "text/plain": [
              "[PosixPath('/root/.keras/datasets/flower_photos/roses/9160289562_ab2718d19b.jpg'),\n",
              " PosixPath('/root/.keras/datasets/flower_photos/roses/4731069260_b270f47803_n.jpg'),\n",
              " PosixPath('/root/.keras/datasets/flower_photos/roses/6309548569_932fee8313_m.jpg'),\n",
              " PosixPath('/root/.keras/datasets/flower_photos/roses/3829990289_c0c3821e4d_m.jpg'),\n",
              " PosixPath('/root/.keras/datasets/flower_photos/roses/3292654244_4a220ab96f_m.jpg')]"
            ]
          },
          "metadata": {},
          "execution_count": 15
        }
      ]
    },
    {
      "cell_type": "code",
      "source": [
        "PIL.Image.open(str(roses[1]))"
      ],
      "metadata": {
        "id": "ERMNaol0eInV"
      },
      "execution_count": null,
      "outputs": []
    },
    {
      "cell_type": "code",
      "source": [
        "flower_name = {\n",
        "    'daisy':list(data_dir.glob('daisy/*')),\n",
        "    'dandelion':list(data_dir.glob('dandelion/*')),\n",
        "    'roses':list(data_dir.glob('roses/*')),\n",
        "    'sunflower':list(data_dir.glob('sunflower/*')),\n",
        "    'tulips':list(data_dir.glob('tulips/*'))\n",
        "}"
      ],
      "metadata": {
        "id": "imcsXvXifr-2"
      },
      "execution_count": 17,
      "outputs": []
    },
    {
      "cell_type": "code",
      "source": [
        "flower_num = {\n",
        "    'daisy':0,\n",
        "    'dandelion':1,\n",
        "    'roses':2,\n",
        "    'sunflower':3,\n",
        "    'tulips':4\n",
        "}"
      ],
      "metadata": {
        "id": "_M3SkDVjjutp"
      },
      "execution_count": 29,
      "outputs": []
    },
    {
      "cell_type": "code",
      "source": [
        "flower_name['roses'][0]"
      ],
      "metadata": {
        "id": "vmkJYkfZgmIB"
      },
      "execution_count": null,
      "outputs": []
    },
    {
      "cell_type": "code",
      "source": [
        "img = cv2.imread(str(flower_name['roses'][0]))\n",
        "img"
      ],
      "metadata": {
        "colab": {
          "base_uri": "https://localhost:8080/"
        },
        "id": "ayV6pMt6g6el",
        "outputId": "55986049-ebf4-4dea-ddba-826cdfd0058c"
      },
      "execution_count": 20,
      "outputs": [
        {
          "output_type": "execute_result",
          "data": {
            "text/plain": [
              "array([[[  5,  33,  27],\n",
              "        [  8,  35,  26],\n",
              "        [ 14,  37,  29],\n",
              "        ...,\n",
              "        [ 20,  65,  56],\n",
              "        [ 28,  70,  63],\n",
              "        [ 24,  75,  67]],\n",
              "\n",
              "       [[ 11,  32,  23],\n",
              "        [  9,  34,  24],\n",
              "        [  8,  40,  29],\n",
              "        ...,\n",
              "        [ 25,  66,  59],\n",
              "        [ 27,  65,  59],\n",
              "        [ 26,  73,  65]],\n",
              "\n",
              "       [[ 10,  32,  27],\n",
              "        [ 11,  33,  28],\n",
              "        [ 14,  37,  32],\n",
              "        ...,\n",
              "        [ 26,  75,  67],\n",
              "        [ 24,  68,  61],\n",
              "        [ 25,  74,  66]],\n",
              "\n",
              "       ...,\n",
              "\n",
              "       [[ 38,  58,  46],\n",
              "        [ 36,  56,  44],\n",
              "        [ 33,  53,  40],\n",
              "        ...,\n",
              "        [174, 113, 181],\n",
              "        [173, 110, 179],\n",
              "        [178, 115, 184]],\n",
              "\n",
              "       [[ 36,  56,  44],\n",
              "        [ 39,  59,  47],\n",
              "        [ 36,  58,  46],\n",
              "        ...,\n",
              "        [168, 111, 174],\n",
              "        [166, 106, 170],\n",
              "        [170, 113, 176]],\n",
              "\n",
              "       [[ 40,  60,  48],\n",
              "        [ 43,  65,  53],\n",
              "        [ 39,  63,  51],\n",
              "        ...,\n",
              "        [161, 106, 169],\n",
              "        [155,  98, 161],\n",
              "        [159, 102, 165]]], dtype=uint8)"
            ]
          },
          "metadata": {},
          "execution_count": 20
        }
      ]
    },
    {
      "cell_type": "code",
      "source": [
        "X,y = [],[]"
      ],
      "metadata": {
        "id": "SMihOIoShIAX"
      },
      "execution_count": 21,
      "outputs": []
    },
    {
      "cell_type": "code",
      "source": [
        "for flower_name, images in flower_name.items():\n",
        "    for image in images:\n",
        "        img = cv2.imread(str(image))\n",
        "        resized_img = cv2.resize(img, (180, 180))\n",
        "        X.append(resized_img)\n",
        "        y.append(flower_num[flower_name])\n",
        "\n",
        "\n"
      ],
      "metadata": {
        "id": "ZyoRtdmNh_Fe"
      },
      "execution_count": 31,
      "outputs": []
    },
    {
      "cell_type": "code",
      "source": [
        "from sklearn.model_selection import train_test_split\n",
        "\n"
      ],
      "metadata": {
        "id": "XqutprhnieEo"
      },
      "execution_count": null,
      "outputs": []
    },
    {
      "cell_type": "code",
      "source": [],
      "metadata": {
        "id": "ey-4xgg_iF3B"
      },
      "execution_count": null,
      "outputs": []
    }
  ]
}